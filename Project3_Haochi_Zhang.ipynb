{
  "nbformat": 4,
  "nbformat_minor": 0,
  "metadata": {
    "colab": {
      "name": "Project3 Haochi Zhang.ipynb",
      "provenance": [],
      "collapsed_sections": [],
      "authorship_tag": "ABX9TyPT71J44dGOp4YMfMQuvLLV",
      "include_colab_link": true
    },
    "kernelspec": {
      "name": "python3",
      "display_name": "Python 3"
    },
    "language_info": {
      "name": "python"
    }
  },
  "cells": [
    {
      "cell_type": "markdown",
      "metadata": {
        "id": "view-in-github",
        "colab_type": "text"
      },
      "source": [
        "<a href=\"https://colab.research.google.com/github/BlackZhc/ML_proj/blob/main/Project3_Haochi_Zhang.ipynb\" target=\"_parent\"><img src=\"https://colab.research.google.com/assets/colab-badge.svg\" alt=\"Open In Colab\"/></a>"
      ]
    },
    {
      "cell_type": "code",
      "execution_count": null,
      "metadata": {
        "id": "E7gfonHCcNUn"
      },
      "outputs": [],
      "source": [
        "%%capture\n",
        "# This snipped of code will download the data file\n",
        "!wget https://www.dropbox.com/s/ms5p2hqqhlaago7/replay_buffer.npy?dl=1\n",
        "!mv replay_buffer.npy?dl=1 replay_buffer.npy"
      ]
    },
    {
      "cell_type": "code",
      "source": [
        "Project3 Haochi Zhang"
      ],
      "metadata": {
        "id": "0XgPjdcWxHv_"
      },
      "execution_count": null,
      "outputs": []
    },
    {
      "cell_type": "code",
      "source": [
        "from tensorflow.keras import Sequential\n",
        "from tensorflow.keras.layers import Dense, Activation\n",
        "import numpy as np"
      ],
      "metadata": {
        "id": "VXwVDXx5jHF9"
      },
      "execution_count": null,
      "outputs": []
    },
    {
      "cell_type": "code",
      "source": [
        "\n",
        "\n",
        "γ = 0.95\n",
        "batch_size = 128\n",
        "\n",
        "replay_buffer = np.load('replay_buffer.npy')\n",
        "\n",
        "model = Sequential([Dense(50,'relu'), Dense(1)])\n",
        "model.compile(loss='mse')"
      ],
      "metadata": {
        "id": "rKnJbL9ScOiC"
      },
      "execution_count": null,
      "outputs": []
    },
    {
      "cell_type": "code",
      "source": [
        "# This function will select a random sample of the replay buffer.\n",
        "def sample_from_buffer():\n",
        "    idx = np.random.choice(len(replay_buffer), size = batch_size) # A vector of random indexes,\n",
        "    # where the idexes can vary from 0 to len(replay_buffer).\n",
        "    # The size of the sample is 'batch_size'\n",
        "\n",
        "    mini_batch = replay_buffer[idx]\n",
        "    Dt, D_tp1, π_t, π_tp1 = np.split(mini_batch, 4, axis=1)\n",
        "    R = γ * π_tp1 * D_tp1\n",
        "    return Dt, R, D_tp1\n",
        "\n",
        "\n",
        "# This function implements one step of the TD update\n",
        "def update():\n",
        "    D, R, D_tp1 = sample_from_buffer() # get a sample from the replay buffer\n",
        "    V_tp1 = model.predict(D_tp1) # Evaluate the network at y_tp1\n",
        "    TD_target = R + γ*V_tp1\n",
        "    model.fit(D, TD_target, verbose=False, batch_size=128)\n"
      ],
      "metadata": {
        "id": "jPT86qdCcTVu"
      },
      "execution_count": null,
      "outputs": []
    },
    {
      "cell_type": "code",
      "source": [
        "import matplotlib.pyplot as plt\n",
        "for iteration in range(100):\n",
        "    update()\n"
      ],
      "metadata": {
        "id": "eCYXt7CQcT10"
      },
      "execution_count": null,
      "outputs": []
    },
    {
      "cell_type": "code",
      "source": [
        "# Show your results\n",
        "Dt, D_tp1, π_t, π_tp1 = np.split(replay_buffer, 4, axis=1)\n",
        "V = model.predict(Dt)\n",
        "Pt = V / π_t\n",
        "plt.scatter(Dt, Pt, s=1)\n",
        "plt.show()\n",
        "plt.pause(1e-6)\n",
        "# P.S: you figure should be similar to this one: https://www.dropbox.com/s/6992cmfatiu3wkj/PD.png?dl=0"
      ],
      "metadata": {
        "colab": {
          "base_uri": "https://localhost:8080/",
          "height": 265
        },
        "id": "0iztHeeNcWGY",
        "outputId": "eda24a45-93b4-49ba-acce-5d527943ceb3"
      },
      "execution_count": null,
      "outputs": [
        {
          "output_type": "display_data",
          "data": {
            "image/png": "[encoded data removed]",
            "text/plain": [
              "<Figure size 432x288 with 1 Axes>"
            ]
          },
          "metadata": {
            "needs_background": "light"
          }
        }
      ]
    },
    {
      "cell_type": "code",
      "source": [
        ""
      ],
      "metadata": {
        "id": "eMTrR_j2llwx"
      },
      "execution_count": null,
      "outputs": []
    }
  ]
}