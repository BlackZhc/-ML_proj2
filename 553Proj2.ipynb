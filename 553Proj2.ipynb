{
  "nbformat": 4,
  "nbformat_minor": 0,
  "metadata": {
    "colab": {
      "name": "553Proj2.ipynb",
      "provenance": [],
      "collapsed_sections": [],
      "toc_visible": true,
      "authorship_tag": "ABX9TyPceOLVOuKrD+7fxSQXMJEX",
      "include_colab_link": true
    },
    "kernelspec": {
      "name": "python3",
      "display_name": "Python 3"
    },
    "language_info": {
      "name": "python"
    }
  },
  "cells": [
    {
      "cell_type": "markdown",
      "metadata": {
        "id": "view-in-github",
        "colab_type": "text"
      },
      "source": [
        "<a href=\"https://colab.research.google.com/github/BlackZhc/ML_proj/blob/main/553Proj2.ipynb\" target=\"_parent\"><img src=\"https://colab.research.google.com/assets/colab-badge.svg\" alt=\"Open In Colab\"/></a>"
      ]
    },
    {
      "cell_type": "code",
      "execution_count": null,
      "metadata": {
        "id": "rzfbe4veiltJ"
      },
      "outputs": [],
      "source": [
        "#Fin 553 Proj2"
      ]
    },
    {
      "cell_type": "code",
      "source": [
        "import numpy as np\n",
        "class MDP():\n",
        "  def __init__(self):\n",
        "    self.γ = 0.9960\n",
        "    self.A = [0, 1]\n",
        "    self.S = [0, 1, 2, 3, 4]\n",
        "\n",
        "    P0 = np.array([[0.5, .15, .15, 0, .20],\n",
        "                   [0, .5, .0, .25, .25],\n",
        "                   [0, 0, .15, .05, .8],\n",
        "                   [0, 0, 0, 0, 1],\n",
        "                   [0, 0, 0, 0, 1]])\n",
        "\n",
        "    R0 = np.array([0, 0, 0, 10, 0])\n",
        "\n",
        "    P1 = np.array([[0.5, .25, .15, 0, .10],\n",
        "                   [0, .5, .0, .35, .15],\n",
        "                   [0, 0, .20, .05, .75],\n",
        "                   [0, 0, 0, 0, 1],\n",
        "                   [0, 0, 0, 0, 1]])\n",
        "\n",
        "    R1 = np.array([-0.1, -0.1, -0.1, 10, 0])\n",
        "\n",
        "    self.P = [P0, P1]\n",
        "    self.R = [R0, R1]\n",
        "\n",
        "  def step(self, s, a):\n",
        "    s_prime = np.random.choice(len(self.S), p=self.P[a][s])\n",
        "    R = self.R[a][s]\n",
        "    if s_prime == 4:\n",
        "      done = True\n",
        "    else:\n",
        "      done = False\n",
        "    return s_prime, R, done\n",
        "\n",
        "  def simulate(self, s, a, π):\n",
        "    done = False\n",
        "    t = 0\n",
        "    history = []\n",
        "    while not done:\n",
        "      if t > 0:\n",
        "        a = π[s]\n",
        "      s_prime, R, done = self.step(s, a)\n",
        "      history.append((s, a, R))\n",
        "      s = s_prime\n",
        "      t += 1\n",
        "\n",
        "    return history"
      ],
      "metadata": {
        "id": "cj2qogtti3q8"
      },
      "execution_count": null,
      "outputs": []
    },
    {
      "cell_type": "code",
      "source": [
        "mdp = MDP()"
      ],
      "metadata": {
        "id": "3HX6ywcvi4xc"
      },
      "execution_count": null,
      "outputs": []
    },
    {
      "cell_type": "code",
      "source": [
        "# Now, starting at phase 0 (state s=0), we will choose to make additional investments (a=1).\n",
        "s = 0\n",
        "a = 1\n",
        "\n",
        "# We feed the state-action pair to the simulator and it tells us what happened in this simulation:\n",
        "s_prime, R, done = mdp.step(s, a)\n",
        "\n",
        "print(s_prime, R, done)"
      ],
      "metadata": {
        "colab": {
          "base_uri": "https://localhost:8080/"
        },
        "id": "IvqTWYmwi8Za",
        "outputId": "a280af02-b882-4889-859e-1726dbed5ab0"
      },
      "execution_count": null,
      "outputs": [
        {
          "output_type": "stream",
          "name": "stdout",
          "text": [
            "1 -0.1 False\n"
          ]
        }
      ]
    },
    {
      "cell_type": "code",
      "source": [
        "S = np.zeros(5)\n",
        "q = np.zeros((5,2))\n",
        "ϵ = 0.01\n",
        "α = 0.001\n",
        "\n",
        "def ε_greedy(q, s, ε=0.01):\n",
        "  a = np.argmax(q[s])\n",
        "\n",
        "  u = np.random.uniform()\n",
        "  if u < ε:\n",
        "    a = np.random.randint(2)\n",
        "  return a\n",
        "\n",
        "for iteration in range(1000000):\n",
        "      # Choose action for today:\n",
        "  a = ε_greedy(q, s, ε=ε)\n",
        "  s_prime, R, done = mdp.step(s, a)\n",
        "\n",
        "    # SARSA update\n",
        "  a_prime = ε_greedy(q, s_prime, ε=ε)\n",
        "    # TD_target = R + mdp.γ * q[s_prime, a_prime]\n",
        "\n",
        "    # Q-learning upate\n",
        "  TD_target = R + mdp.γ * np.max(q[s_prime, :])\n",
        "\n",
        "  δ = TD_target - q[s, a]\n",
        "\n",
        "    # TD update\n",
        "  q[s, a] = q[s, a] + α * δ\n",
        "\n",
        "  if done:\n",
        "    s = 1\n",
        "  else:\n",
        "    s = s_prime\n",
        "\n",
        "    \n",
        "print(q)"
      ],
      "metadata": {
        "colab": {
          "base_uri": "https://localhost:8080/"
        },
        "id": "ZXZB8uC-jDx3",
        "outputId": "64003725-b390-45c4-eae8-0efcb1e2ab96"
      },
      "execution_count": null,
      "outputs": [
        {
          "output_type": "stream",
          "name": "stdout",
          "text": [
            "[[ 0.          0.        ]\n",
            " [ 5.78455433  6.7131695 ]\n",
            " [ 0.          0.        ]\n",
            " [10.          6.78438794]\n",
            " [ 0.          0.        ]]\n"
          ]
        }
      ]
    },
    {
      "cell_type": "code",
      "source": [
        ""
      ],
      "metadata": {
        "id": "TV2cba1-kNbQ"
      },
      "execution_count": null,
      "outputs": []
    },
    {
      "cell_type": "code",
      "source": [
        "## Part2"
      ],
      "metadata": {
        "id": "Rs5M2eDwkPIj"
      },
      "execution_count": null,
      "outputs": []
    },
    {
      "cell_type": "code",
      "source": [
        "mdp = MDP()\n",
        "P = mdp.P\n",
        "R = mdp.R\n",
        "γ = mdp.γ\n",
        "S = mdp.S\n",
        "A = mdp.A\n",
        "π = [0, 0, 0, 0, 0]\n",
        "\n",
        "\n",
        "s = 2 # current state\n",
        "s_prime = 4  # next state\n",
        "a = 1  # chosen action\n",
        "\n",
        "# Probability of transition from state s (2) to s_prime (4) if action == a (1):\n",
        "print(P[a][s, s_prime])\n",
        "\n",
        "# Reward at state s if action = a\n",
        "print(R[a][s])"
      ],
      "metadata": {
        "colab": {
          "base_uri": "https://localhost:8080/"
        },
        "id": "5Y0o2r2GtN3r",
        "outputId": "bd6f600d-59b1-4b03-f100-e51365f48b07"
      },
      "execution_count": null,
      "outputs": [
        {
          "output_type": "stream",
          "name": "stdout",
          "text": [
            "0.75\n",
            "-0.1\n"
          ]
        }
      ]
    },
    {
      "cell_type": "code",
      "source": [
        "def construct_Rπ(R, π, S):\n",
        "  Rπ = np.zeros(len(S))\n",
        "  for s in S:\n",
        "    Rπ[s] = R[π[s]][s]\n",
        "  return Rπ\n",
        "\n",
        "def construct_Pπ(P, π, S):\n",
        "  Pπ = np.zeros((len(S), len(S)))\n",
        "  for s in S:\n",
        "    for s_prime in S:\n",
        "      Pπ[s, s_prime] = P[π[s]][s, s_prime]\n",
        "  return Pπ\n",
        "\n",
        "\n",
        "def policy_evaluation(π, Vπ):\n",
        "  Rπ = construct_Rπ(R, π, S)\n",
        "  Pπ = construct_Pπ(P, π, S)\n",
        "  for iteration in range(1):\n",
        "    Vπ = Rπ + γ * Pπ @ Vπ\n",
        "  return Vπ\n",
        "\n",
        "def policy_improvement(Vπ):\n",
        "  Qπ = np.zeros((5, 2))\n",
        "  π_prime = np.zeros(5, dtype=np.int32)\n",
        "  for s in S:\n",
        "    for a in A:\n",
        "      Qπ[s, a] = R[a][s] + γ * P[a][s] @ Vπ\n",
        "\n",
        "  # Greedy updates\n",
        "  for s in S:\n",
        "    π_prime[s] = np.argmax(Qπ[s, :])\n",
        "  return π_prime\n",
        "\n",
        "\n",
        "Vπ = [0, 0, 0, 0, 0]\n"
      ],
      "metadata": {
        "id": "2Eul9NBttQzU"
      },
      "execution_count": null,
      "outputs": []
    },
    {
      "cell_type": "code",
      "source": [
        "for iteration in range(10000):\n",
        "  Vπ = policy_evaluation(π, Vπ)\n",
        "  π = policy_improvement(Vπ)"
      ],
      "metadata": {
        "id": "oKN_Da1stU5t"
      },
      "execution_count": null,
      "outputs": []
    },
    {
      "cell_type": "code",
      "source": [
        "Vπ"
      ],
      "metadata": {
        "colab": {
          "base_uri": "https://localhost:8080/"
        },
        "id": "6nQ0WVc4tgWo",
        "outputId": "5864cb63-6aa9-48b5-e4bb-b90401ae21bf"
      },
      "execution_count": null,
      "outputs": [
        {
          "output_type": "execute_result",
          "data": {
            "text/plain": [
              "array([ 3.32067538,  6.74501992,  0.58546908, 10.        ,  0.        ])"
            ]
          },
          "metadata": {},
          "execution_count": 137
        }
      ]
    },
    {
      "cell_type": "code",
      "source": [
        ""
      ],
      "metadata": {
        "id": "XvK03GV3zEgw"
      },
      "execution_count": null,
      "outputs": []
    }
  ]
}